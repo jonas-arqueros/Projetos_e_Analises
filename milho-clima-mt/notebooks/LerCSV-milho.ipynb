{
 "cells": [
  {
   "cell_type": "code",
   "execution_count": 1,
   "id": "4d4ac684",
   "metadata": {},
   "outputs": [
    {
     "ename": "KeyError",
     "evalue": "'Nível'",
     "output_type": "error",
     "traceback": [
      "\u001b[1;31m---------------------------------------------------------------------------\u001b[0m",
      "\u001b[1;31mKeyError\u001b[0m                                  Traceback (most recent call last)",
      "File \u001b[1;32m~\\anaconda3\\Lib\\site-packages\\pandas\\core\\indexes\\base.py:3802\u001b[0m, in \u001b[0;36mIndex.get_loc\u001b[1;34m(self, key, method, tolerance)\u001b[0m\n\u001b[0;32m   3801\u001b[0m \u001b[38;5;28;01mtry\u001b[39;00m:\n\u001b[1;32m-> 3802\u001b[0m     \u001b[38;5;28;01mreturn\u001b[39;00m \u001b[38;5;28mself\u001b[39m\u001b[38;5;241m.\u001b[39m_engine\u001b[38;5;241m.\u001b[39mget_loc(casted_key)\n\u001b[0;32m   3803\u001b[0m \u001b[38;5;28;01mexcept\u001b[39;00m \u001b[38;5;167;01mKeyError\u001b[39;00m \u001b[38;5;28;01mas\u001b[39;00m err:\n",
      "File \u001b[1;32m~\\anaconda3\\Lib\\site-packages\\pandas\\_libs\\index.pyx:138\u001b[0m, in \u001b[0;36mpandas._libs.index.IndexEngine.get_loc\u001b[1;34m()\u001b[0m\n",
      "File \u001b[1;32m~\\anaconda3\\Lib\\site-packages\\pandas\\_libs\\index.pyx:165\u001b[0m, in \u001b[0;36mpandas._libs.index.IndexEngine.get_loc\u001b[1;34m()\u001b[0m\n",
      "File \u001b[1;32mpandas\\_libs\\hashtable_class_helper.pxi:5745\u001b[0m, in \u001b[0;36mpandas._libs.hashtable.PyObjectHashTable.get_item\u001b[1;34m()\u001b[0m\n",
      "File \u001b[1;32mpandas\\_libs\\hashtable_class_helper.pxi:5753\u001b[0m, in \u001b[0;36mpandas._libs.hashtable.PyObjectHashTable.get_item\u001b[1;34m()\u001b[0m\n",
      "\u001b[1;31mKeyError\u001b[0m: 'Nível'",
      "\nThe above exception was the direct cause of the following exception:\n",
      "\u001b[1;31mKeyError\u001b[0m                                  Traceback (most recent call last)",
      "Cell \u001b[1;32mIn[1], line 10\u001b[0m\n\u001b[0;32m      7\u001b[0m df_raw \u001b[38;5;241m=\u001b[39m pd\u001b[38;5;241m.\u001b[39mread_csv(CAMINHO_ARQUIVO, sep\u001b[38;5;241m=\u001b[39m\u001b[38;5;124m\"\u001b[39m\u001b[38;5;124m;\u001b[39m\u001b[38;5;124m\"\u001b[39m, quotechar\u001b[38;5;241m=\u001b[39m\u001b[38;5;124m'\u001b[39m\u001b[38;5;124m\"\u001b[39m\u001b[38;5;124m'\u001b[39m, skiprows\u001b[38;5;241m=\u001b[39m\u001b[38;5;241m5\u001b[39m)\n\u001b[0;32m      9\u001b[0m \u001b[38;5;66;03m# 2. Manter apenas os municípios\u001b[39;00m\n\u001b[1;32m---> 10\u001b[0m df_municipios \u001b[38;5;241m=\u001b[39m df_raw[df_raw[\u001b[38;5;124m\"\u001b[39m\u001b[38;5;124mNível\u001b[39m\u001b[38;5;124m\"\u001b[39m] \u001b[38;5;241m==\u001b[39m \u001b[38;5;124m\"\u001b[39m\u001b[38;5;124mMunicípio\u001b[39m\u001b[38;5;124m\"\u001b[39m]\u001b[38;5;241m.\u001b[39mcopy()\n\u001b[0;32m     12\u001b[0m \u001b[38;5;66;03m# 3. Renomear a coluna do nome do município\u001b[39;00m\n\u001b[0;32m     13\u001b[0m df_municipios\u001b[38;5;241m.\u001b[39mrename(columns\u001b[38;5;241m=\u001b[39m{\n\u001b[0;32m     14\u001b[0m     \u001b[38;5;124m\"\u001b[39m\u001b[38;5;124mUF, Mesorregião, Microrregião e Município, em ordem de código de Meso e Micro, e nome de Município - MT\u001b[39m\u001b[38;5;124m\"\u001b[39m: \u001b[38;5;124m\"\u001b[39m\u001b[38;5;124mmunicipio\u001b[39m\u001b[38;5;124m\"\u001b[39m\n\u001b[0;32m     15\u001b[0m }, inplace\u001b[38;5;241m=\u001b[39m\u001b[38;5;28;01mTrue\u001b[39;00m)\n",
      "File \u001b[1;32m~\\anaconda3\\Lib\\site-packages\\pandas\\core\\frame.py:3807\u001b[0m, in \u001b[0;36mDataFrame.__getitem__\u001b[1;34m(self, key)\u001b[0m\n\u001b[0;32m   3805\u001b[0m \u001b[38;5;28;01mif\u001b[39;00m \u001b[38;5;28mself\u001b[39m\u001b[38;5;241m.\u001b[39mcolumns\u001b[38;5;241m.\u001b[39mnlevels \u001b[38;5;241m>\u001b[39m \u001b[38;5;241m1\u001b[39m:\n\u001b[0;32m   3806\u001b[0m     \u001b[38;5;28;01mreturn\u001b[39;00m \u001b[38;5;28mself\u001b[39m\u001b[38;5;241m.\u001b[39m_getitem_multilevel(key)\n\u001b[1;32m-> 3807\u001b[0m indexer \u001b[38;5;241m=\u001b[39m \u001b[38;5;28mself\u001b[39m\u001b[38;5;241m.\u001b[39mcolumns\u001b[38;5;241m.\u001b[39mget_loc(key)\n\u001b[0;32m   3808\u001b[0m \u001b[38;5;28;01mif\u001b[39;00m is_integer(indexer):\n\u001b[0;32m   3809\u001b[0m     indexer \u001b[38;5;241m=\u001b[39m [indexer]\n",
      "File \u001b[1;32m~\\anaconda3\\Lib\\site-packages\\pandas\\core\\indexes\\base.py:3804\u001b[0m, in \u001b[0;36mIndex.get_loc\u001b[1;34m(self, key, method, tolerance)\u001b[0m\n\u001b[0;32m   3802\u001b[0m     \u001b[38;5;28;01mreturn\u001b[39;00m \u001b[38;5;28mself\u001b[39m\u001b[38;5;241m.\u001b[39m_engine\u001b[38;5;241m.\u001b[39mget_loc(casted_key)\n\u001b[0;32m   3803\u001b[0m \u001b[38;5;28;01mexcept\u001b[39;00m \u001b[38;5;167;01mKeyError\u001b[39;00m \u001b[38;5;28;01mas\u001b[39;00m err:\n\u001b[1;32m-> 3804\u001b[0m     \u001b[38;5;28;01mraise\u001b[39;00m \u001b[38;5;167;01mKeyError\u001b[39;00m(key) \u001b[38;5;28;01mfrom\u001b[39;00m \u001b[38;5;21;01merr\u001b[39;00m\n\u001b[0;32m   3805\u001b[0m \u001b[38;5;28;01mexcept\u001b[39;00m \u001b[38;5;167;01mTypeError\u001b[39;00m:\n\u001b[0;32m   3806\u001b[0m     \u001b[38;5;66;03m# If we have a listlike key, _check_indexing_error will raise\u001b[39;00m\n\u001b[0;32m   3807\u001b[0m     \u001b[38;5;66;03m#  InvalidIndexError. Otherwise we fall through and re-raise\u001b[39;00m\n\u001b[0;32m   3808\u001b[0m     \u001b[38;5;66;03m#  the TypeError.\u001b[39;00m\n\u001b[0;32m   3809\u001b[0m     \u001b[38;5;28mself\u001b[39m\u001b[38;5;241m.\u001b[39m_check_indexing_error(key)\n",
      "\u001b[1;31mKeyError\u001b[0m: 'Nível'"
     ]
    }
   ],
   "source": [
    "import pandas as pd\n",
    "\n",
    "# Caminho do arquivo bruto\n",
    "CAMINHO_ARQUIVO = \"C:/Users/Jonas/Documents/MeusProjetos/Projetos_e_Analises/milho-clima-mt/data/raw/milho-mt.csv\"\n",
    "\n",
    "# 1. Ler o arquivo bruto pulando as 5 primeiras linhas informativas\n",
    "df_raw = pd.read_csv(CAMINHO_ARQUIVO, sep=\";\", quotechar='\"', skiprows=5)\n",
    "\n",
    "# 2. Manter apenas os municípios\n",
    "df_municipios = df_raw[df_raw[\"Nível\"] == \"Município\"].copy()\n",
    "\n",
    "# 3. Renomear a coluna do nome do município\n",
    "df_municipios.rename(columns={\n",
    "    \"UF, Mesorregião, Microrregião e Município, em ordem de código de Meso e Micro, e nome de Município - MT\": \"municipio\"\n",
    "}, inplace=True)\n",
    "\n",
    "# 4. Selecionar colunas de milho (em grão)\n",
    "# Essas colunas estão nas colunas alternadas: a partir da 4ª (índice 4), de 2 em 2\n",
    "colunas_milho = df_municipios.columns[4::2]\n",
    "anos = list(range(2000, 2024))  # de 2000 até 2023\n",
    "\n",
    "# 5. Substituir vírgula por ponto e converter para número\n",
    "df_milho = df_municipios[[\"municipio\"] + list(colunas_milho)].copy()\n",
    "for col in colunas_milho:\n",
    "    df_milho[col] = pd.to_numeric(df_milho[col].astype(str).str.replace(\".\", \"\", regex=False).str.replace(\",\", \".\"), errors=\"coerce\")\n",
    "\n",
    "# 6. Renomear colunas de milho com os anos corretos\n",
    "df_milho.columns = [\"municipio\"] + [str(ano) for ano in anos]\n",
    "\n",
    "# 7. Transformar em formato longo (melt)\n",
    "df_milho_long = df_milho.melt(id_vars=\"municipio\", var_name=\"ano\", value_name=\"area_plantada_ha\")\n",
    "\n",
    "# 8. Ordenar\n",
    "df_milho_long = df_milho_long.sort_values(by=[\"municipio\", \"ano\"]).reset_index(drop=True)\n",
    "\n",
    "# 9. Converter ano para int\n",
    "df_milho_long[\"ano\"] = df_milho_long[\"ano\"].astype(int)\n",
    "\n",
    "# ✅ Pronto!\n",
    "print(df_milho_long.head())"
   ]
  },
  {
   "cell_type": "code",
   "execution_count": 2,
   "id": "e48966ff",
   "metadata": {},
   "outputs": [
    {
     "name": "stdout",
     "output_type": "stream",
     "text": [
      "﻿\"Tabela 1612 - Área plantada, área colhida, quantidade produzida, rendimento médio e valor da produção das lavouras temporárias\"\n",
      "\n",
      "\"Variável - Área plantada (Hectares)\"\n",
      "\n",
      "\"Nível\";\"Cód.\";\"UF, Mesorregião, Microrregião e Município, em ordem de código de Meso e Micro, e nome de Município - MT\";\"Ano x Produto das lavouras temporárias\"\n",
      "\n",
      "\"Nível\";\"Cód.\";\"UF, Mesorregião, Microrregião e Município, em ordem de código de Meso e Micro, e nome de Município - MT\";\"2000\";;\"2001\";;\"2002\";;\"2003\";;\"2004\";;\"2005\";;\"2006\";;\"2007\";;\"2008\";;\"2009\";;\"2010\";;\"2011\";;\"2012\";;\"2013\";;\"2014\";;\"2015\";;\"2016\";;\"2017\";;\"2018\";;\"2019\";;\"2020\";;\"2021\";;\"2022\";;\"2023\"\n",
      "\n",
      "\"Nível\";\"Cód.\";\"UF, Mesorregião, Microrregião e Município, em ordem de código de Meso e Micro, e nome de Município - MT\";\"Total\";\"Milho (em grão)\";\"Total\";\"Milho (em grão)\";\"Total\";\"Milho (em grão)\";\"Total\";\"Milho (em grão)\";\"Total\";\"Milho (em grão)\";\"Total\";\"Milho (em grão)\";\"Total\";\"Milho (em grão)\";\"Total\";\"Milho (em grão)\";\"Total\";\"Milho (em grão)\";\"Total\";\"Milho (em grão)\";\"Total\";\"Milho (em grão)\";\"Total\";\"Milho (em grão)\";\"Total\";\"Milho (em grão)\";\"Total\";\"Milho (em grão)\";\"Total\";\"Milho (em grão)\";\"Total\";\"Milho (em grão)\";\"Total\";\"Milho (em grão)\";\"Total\";\"Milho (em grão)\";\"Total\";\"Milho (em grão)\";\"Total\";\"Milho (em grão)\";\"Total\";\"Milho (em grão)\";\"Total\";\"Milho (em grão)\";\"Total\";\"Milho (em grão)\";\"Total\";\"Milho (em grão)\"\n",
      "\n",
      "\"UF\";\"51\";\"Mato Grosso\";\"4746968\";\"562582\";\"4882136\";\"540085\";\"5632992\";\"723135\";\"6445164\";\"882658\";\"7912796\";\"941125\";\"8976694\";\"1073146\";\"8009276\";\"1079980\";\"7992055\";\"1650471\";\"8830550\";\"1832687\";\"8735355\";\"1665470\";\"9381244\";\"2014192\";\"9884223\";\"1922621\";\"11262263\";\"2740833\";\"12723490\";\"3416701\";\"13542011\";\"3349650\";\"14082687\";\"3570606\";\"14494519\";\"3900268\";\"15570194\";\"4784837\";\"15478806\";\"4418507\";\"16594186\";\"5026449\";\"17150016\";\"5318762\";\"17930752\";\"5808096\";\"19125237\";\"6416967\";\"21220170\";\"7429526\"\n",
      "\n",
      "\"ME\";\"5101\";\"  Norte Mato-grossense\";\"2926454\";\"315682\";\"3002330\";\"316423\";\"3527126\";\"491014\";\"4092316\";\"613510\";\"5030259\";\"674256\";\"5748190\";\"778387\";\"5223075\";\"758492\";\"5254513\";\"1218918\";\"5899148\";\"1338201\";\"5747571\";\"1167300\";\"6182731\";\"1418237\";\"6411080\";\"1308342\";\"7362382\";\"1891121\";\"8348541\";\"2417378\";\"8702050\";\"2212384\";\"9036820\";\"2437077\";\"9317493\";\"2672119\";\"10195674\";\"3445186\";\"10030229\";\"3112599\";\"11023764\";\"3641603\";\"11314594\";\"3814190\";\"11665264\";\"4091913\";\"12534821\";\"4527662\";\"13596483\";\"4979232\"\n",
      "\n",
      "\"MI\";\"51001\";\"    Aripuanã\";\"100505\";\"20010\";\"107647\";\"18496\";\"138904\";\"23506\";\"168315\";\"26024\";\"208213\";\"26223\";\"236060\";\"30420\";\"211901\";\"36825\";\"149106\";\"30439\";\"211996\";\"34804\";\"203059\";\"33490\";\"220650\";\"42753\";\"209200\";\"33098\";\"254968\";\"49189\";\"289634\";\"61650\";\"301419\";\"50803\";\"332596\";\"63151\";\"337039\";\"72506\";\"389476\";\"118586\";\"389995\";\"121816\";\"421168\";\"149521\";\"427203\";\"147655\";\"434850\";\"129661\";\"489655\";\"166094\";\"586175\";\"215934\"\n",
      "\n",
      "\"MU\";\"5101407\";\"      Aripuanã\";\"9390\";\"2600\";\"2793\";\"1000\";\"4008\";\"1700\";\"4660\";\"2500\";\"4265\";\"1500\";\"6140\";\"2800\";\"8715\";\"4480\";\"2823\";\"1000\";\"2794\";\"1000\";\"2929\";\"1100\";\"2837\";\"1003\";\"3551\";\"1303\";\"2953\";\"1303\";\"3030\";\"1505\";\"2679\";\"1155\";\"4055\";\"2055\";\"4310\";\"2700\";\"5520\";\"3800\";\"5425\";\"3500\";\"6827\";\"4400\";\"6752\";\"4105\";\"8484\";\"4905\";\"10439\";\"5515\";\"19846\";\"8330\"\n",
      "\n",
      "\"MU\";\"5101902\";\"      Brasnorte\";\"74565\";\"9300\";\"78685\";\"6475\";\"97055\";\"2900\";\"120013\";\"8500\";\"157463\";\"9200\";\"193411\";\"11000\";\"168243\";\"15800\";\"117482\";\"15030\";\"185357\";\"22980\";\"178977\";\"21440\";\"197119\";\"30600\";\"192018\";\"25235\";\"238416\";\"41100\";\"275111\";\"55015\";\"286663\";\"45200\";\"304907\";\"52300\";\"315805\";\"65200\";\"365260\";\"107800\";\"359332\";\"108000\";\"388796\";\"134000\";\"392671\";\"132500\";\"390400\";\"111471\";\"433780\";\"143545\";\"498965\";\"182500\"\n",
      "\n"
     ]
    }
   ],
   "source": [
    "with open(CAMINHO_ARQUIVO, \"r\", encoding=\"utf-8\") as f:\n",
    "    for _ in range(10):\n",
    "        print(f.readline())\n"
   ]
  },
  {
   "cell_type": "code",
   "execution_count": null,
   "id": "656bd029",
   "metadata": {},
   "outputs": [],
   "source": []
  }
 ],
 "metadata": {
  "kernelspec": {
   "display_name": "Python 3 (ipykernel)",
   "language": "python",
   "name": "python3"
  },
  "language_info": {
   "codemirror_mode": {
    "name": "ipython",
    "version": 3
   },
   "file_extension": ".py",
   "mimetype": "text/x-python",
   "name": "python",
   "nbconvert_exporter": "python",
   "pygments_lexer": "ipython3",
   "version": "3.11.4"
  }
 },
 "nbformat": 4,
 "nbformat_minor": 5
}
